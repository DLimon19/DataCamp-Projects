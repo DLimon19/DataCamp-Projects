{
  "nbformat": 4,
  "nbformat_minor": 0,
  "metadata": {
    "colab": {
      "provenance": [],
      "toc_visible": true
    },
    "kernelspec": {
      "name": "python3",
      "display_name": "Python 3"
    },
    "language_info": {
      "name": "python"
    }
  },
  "cells": [
    {
      "cell_type": "markdown",
      "source": [
        "# Fundamentos de Python"
      ],
      "metadata": {
        "id": "6lsLHPrkwwVy"
      }
    },
    {
      "cell_type": "markdown",
      "source": [
        "## Python Script\n",
        "Estos scripts de Python son simplemente archivos de texto con la extensión (punto) py. Es básicamente una lista de comandos de Python que se ejecutan, casi como si usted mismo estuviera escribiendo los comandos en el shell, línea por línea."
      ],
      "metadata": {
        "id": "G45zIBfpAOaM"
      }
    },
    {
      "cell_type": "markdown",
      "source": [
        "## Variables en Python\n",
        "Python tiene varios tipos de variables de forma nativa. Comenzando con variables numéricas, Python puede trabajar con números enteros, flotantes y complejos. También cuenta con cadenas para trabajar con texto y otro tipo de variables llamadas booleanas para almacenar valores binarios.\n",
        "\n",
        "La forma en que declaramos las variables es la siguiente:\n",
        "\n",
        "`nombre_variable = <valor>`\n",
        "\n",
        "El nombre de una variable no puede tener espacios, debe comenzar con una letra, puede contener letras mayúsculas o números dentro del nombre. Ejemplo:\n",
        "\n",
        "`mi_perro = \"Mirlo\"`\n",
        "\n",
        "Para obtener el tipo de una variable, podemos usar la función `type()` y pasar como parámetro la variable que queremos saber. Ejemplo:"
      ],
      "metadata": {
        "id": "S_GJQxkxAhKE"
      }
    },
    {
      "cell_type": "code",
      "source": [
        "taller = \"FundamentosPython\"\n",
        "print(type(taller))"
      ],
      "metadata": {
        "colab": {
          "base_uri": "https://localhost:8080/"
        },
        "id": "TnpWzRNxEJjb",
        "outputId": "c6911141-7e00-422d-84f7-3c0d1304aaf5"
      },
      "execution_count": null,
      "outputs": [
        {
          "output_type": "stream",
          "name": "stdout",
          "text": [
            "<class 'str'>\n"
          ]
        }
      ]
    },
    {
      "cell_type": "markdown",
      "source": [
        "## Tipos de datos de Python\n",
        "Python tiene cinco tipos de datos (haga clic en el enlace para obtener más información sobre el tipo de datos):\n",
        "\n",
        "\n",
        "a) <a href=\"http://thepythonguru.com/python-numbers/\">Number</a> (int, float y complex)<br>\n",
        "    b) <a href=\"http://thepythonguru.com/python-strings/\">String</a><br>\n",
        "    c) <a href=\"http://thepythonguru.com/python-lists/\">List</a> (vector)<br>\n",
        "    d) <a href=\"http://thepythonguru.com/python-tuples/\">Tuple</a><br>\n",
        "    e) <a href=\"http://thepythonguru.com/python-dictionaries/\">Dictionary</a> <br>\n",
        "    f) Boolean"
      ],
      "metadata": {
        "id": "9w0PdirHED76"
      }
    },
    {
      "cell_type": "code",
      "source": [
        "print(list(taller))"
      ],
      "metadata": {
        "colab": {
          "base_uri": "https://localhost:8080/"
        },
        "id": "tQk3-02EJ-NK",
        "outputId": "5ee3afa6-6934-4206-d9d6-845137258a8d"
      },
      "execution_count": null,
      "outputs": [
        {
          "output_type": "stream",
          "name": "stdout",
          "text": [
            "['F', 'u', 'n', 'd', 'a', 'm', 'e', 'n', 't', 'o', 's', 'P', 'y', 't', 'h', 'o', 'n']\n"
          ]
        }
      ]
    },
    {
      "cell_type": "code",
      "source": [
        "num = 10\n",
        "str(num)"
      ],
      "metadata": {
        "colab": {
          "base_uri": "https://localhost:8080/",
          "height": 35
        },
        "id": "qEWG-LkFKPBK",
        "outputId": "11990aca-8686-43e0-8d5b-6958ee8eb44e"
      },
      "execution_count": null,
      "outputs": [
        {
          "output_type": "execute_result",
          "data": {
            "text/plain": [
              "'10'"
            ],
            "application/vnd.google.colaboratory.intrinsic+json": {
              "type": "string"
            }
          },
          "metadata": {},
          "execution_count": 7
        }
      ]
    },
    {
      "cell_type": "markdown",
      "source": [
        "## String\n",
        "El objeto String (tipo de datos) es muy importante para el análisis de datos. Tiene varios métodos importantes y muy útiles para el procesamiento y análisis de cadenas, y hay un paquete (llamado re) para soporte de cadenas para <a href= http://www.rexegg.com/regex-quickstart.html>expresiones regulares</a>."
      ],
      "metadata": {
        "id": "BRarI0IZK8Gw"
      }
    },
    {
      "cell_type": "markdown",
      "source": [
        "Los strings son de naturaleza inmutable"
      ],
      "metadata": {
        "id": "CS_J69Eb6Qp8"
      }
    },
    {
      "cell_type": "code",
      "source": [],
      "metadata": {
        "id": "TQDb-y746Uac"
      },
      "execution_count": null,
      "outputs": []
    },
    {
      "cell_type": "markdown",
      "source": [
        "* Concatenar\n",
        "* Caracteres especiales\n",
        "* Count\n",
        "* endswith\n",
        "* find\n",
        "* join\n",
        "* partition\n",
        "* replace\n",
        "* split"
      ],
      "metadata": {
        "id": "LHD3nN3KLbVw"
      }
    },
    {
      "cell_type": "code",
      "source": [
        "prueba_string = \"codigo en python\""
      ],
      "metadata": {
        "id": "1pyV6_S_Lclv"
      },
      "execution_count": 15,
      "outputs": []
    },
    {
      "cell_type": "code",
      "source": [
        "#concatenar, caracter especial\n",
        "print(\"concatenar, caracter especial\",prueba_string + \"\\t\" + prueba_string, sep='\\t')\n",
        "\n",
        "#count\n",
        "print(\"Count, numero de veces que aparece o: \", prueba_string.count('o'))\n",
        "\n",
        "#endwith\n",
        "print(\"endswith\", 'prueba_string.endswith(\"on\")', prueba_string.endswith(\"on\"), sep='\\t')\n",
        "\n",
        "#find\n",
        "print(\"find\", 'prueba_string.find(\"on\")', prueba_string.find(\"on\"), sep='\\t')\n",
        "\n",
        "#join\n",
        "print(\"join\",'_'.join([\"Daniel\",\"Limon\"]),sep='\\t')\n",
        "\n",
        "#partition\n",
        "print(\"partition\", prueba_string.partition(\"en\"), sep='\\t')\n",
        "segundo_string = prueba_string + prueba_string\n",
        "print(\"partition 2\", segundo_string.partition(\"en\"), sep='\\t')\n",
        "\n",
        "#replace\n",
        "print(\"replace\", prueba_string, sep='\\t')\n",
        "print(\"replace\",prueba_string.replace(\"python\",\"daniel\", 1), sep='\\t')\n",
        "\n",
        "#split\n",
        "print(\"split\",prueba_string.split(\"en\"), sep='\\t')\n",
        "print(\"split 2\",segundo_string.split(\"en\"), sep='\\t')\n",
        "\n",
        "palabras = prueba_string.split(\"en\")\n",
        "print(palabras)\n",
        "print(len(palabras))\n",
        "print(len(prueba_string))"
      ],
      "metadata": {
        "colab": {
          "base_uri": "https://localhost:8080/"
        },
        "id": "tqx7-as6Liev",
        "outputId": "1bc41f8d-a2c4-4fb8-f540-064fb69ca81a"
      },
      "execution_count": 17,
      "outputs": [
        {
          "output_type": "stream",
          "name": "stdout",
          "text": [
            "concatenar, caracter especial\tcodigo en python\tcodigo en python\n",
            "Count, numero de veces que aparece o:  3\n",
            "endswith\tprueba_string.endswith(\"on\")\tTrue\n",
            "find\tprueba_string.find(\"on\")\t14\n",
            "join\tDaniel_Limon\n",
            "partition\t('codigo ', 'en', ' python')\n",
            "partition 2\t('codigo ', 'en', ' pythoncodigo en python')\n",
            "replace\tcodigo en python\n",
            "replace\tcodigo en daniel\n",
            "split\t['codigo ', ' python']\n",
            "split 2\t['codigo ', ' pythoncodigo ', ' python']\n",
            "['codigo ', ' python']\n",
            "2\n",
            "16\n"
          ]
        }
      ]
    },
    {
      "cell_type": "markdown",
      "source": [
        "## Lists\n",
        "\n",
        "Las listas en python también son objetos, por lo que tienen una serie de atributos y métodos para facilitar su uso, los más importantes o utilizados son:"
      ],
      "metadata": {
        "id": "Jsli-bqCQpdd"
      }
    },
    {
      "cell_type": "markdown",
      "source": [
        "* index\n",
        "* slice\n",
        "* count\n",
        "* extend\n",
        "* insert\n",
        "* reverse\n",
        "* sort"
      ],
      "metadata": {
        "id": "oco76rYHQsBF"
      }
    },
    {
      "cell_type": "code",
      "source": [
        "lista_ejemplo = [1,2,3,4,5,6,7,8,9,10]"
      ],
      "metadata": {
        "id": "DjBX1t_mS_U8"
      },
      "execution_count": null,
      "outputs": []
    },
    {
      "cell_type": "code",
      "source": [
        "#index\n",
        "print(\"index\", lista_ejemplo[2], sep='\\t')\n",
        "\n",
        "#slice\n",
        "print(\"slice\",lista_ejemplo[0:4],sep='\\t')\n",
        "print(\"slice\",lista_ejemplo[0:4:2],sep='\\t')\n",
        "print(\"slice\",lista_ejemplo[3::-1],sep='\\t')\n",
        "\n",
        "#count\n",
        "print(\"count\",lista_ejemplo.count(2), sep='\\t')\n",
        "\n",
        "#extend\n",
        "lista_ejemplo.extend([11,12])\n",
        "print(\"extend\", lista_ejemplo, sep='\\t')\n",
        "\n",
        "#insert\n",
        "lista_ejemplo.insert(1,\"2\")\n",
        "print(\"insert\",lista_ejemplo,sep='\\t')\n",
        "\n",
        "#reverse\n",
        "lista_ejemplo.reverse()\n",
        "print(\"reverse\",lista_ejemplo,sep='\\t')\n",
        "lista_ejemplo.reverse()\n",
        "print(\"reverse\",lista_ejemplo,sep='\\t')\n",
        "\n",
        "lista_ejemplo = [1,2,3,4,5,6,7,8,9,10]"
      ],
      "metadata": {
        "colab": {
          "base_uri": "https://localhost:8080/"
        },
        "id": "Q6cu5-k2TA_c",
        "outputId": "5621d15c-553a-46f2-ced2-1ca54ef5b6b3"
      },
      "execution_count": null,
      "outputs": [
        {
          "output_type": "stream",
          "name": "stdout",
          "text": [
            "index\t3\n",
            "slice\t[1, 2, 3, 4]\n",
            "slice\t[1, 3]\n",
            "slice\t[4, 3, 2, 1]\n",
            "count\t1\n",
            "extend\t[1, 2, 3, 4, 5, 6, 7, 8, 9, 10, 11, 12]\n",
            "insert\t[1, '2', 2, 3, 4, 5, 6, 7, 8, 9, 10, 11, 12]\n",
            "reverse\t[12, 11, 10, 9, 8, 7, 6, 5, 4, 3, 2, '2', 1]\n",
            "reverse\t[1, '2', 2, 3, 4, 5, 6, 7, 8, 9, 10, 11, 12]\n"
          ]
        }
      ]
    },
    {
      "cell_type": "markdown",
      "source": [
        "## Tuples\n",
        "Las tuplas son relaciones entre dos o más objetos (como listas); sin embargo, una vez creadas, las tuplas no se pueden modificar, es decir, no se permite agregar, eliminar, etc. Pueden resultar útiles a la hora de leer datos y conservar sus características. Ejemplos:"
      ],
      "metadata": {
        "id": "kLenYtlkT55j"
      }
    },
    {
      "cell_type": "code",
      "source": [
        "# Convertir una lista a un tuple y explorar sus metodos\n",
        "# Intentar aplicar los metodos de una lista en un tuple\n",
        "tuple_ejemplo = tuple(lista_ejemplo)\n",
        "print(tuple_ejemplo)\n",
        "\n",
        "#index\n",
        "print(\"index\", tuple_ejemplo[0], sep='\\t')\n",
        "\n",
        "#slice\n",
        "print(\"slice\",tuple_ejemplo[0:4],sep='\\t')\n",
        "print(\"slice\",tuple_ejemplo[0:4:2],sep='\\t')\n",
        "print(\"slice\",tuple_ejemplo[3::-1],sep='\\t')\n",
        "\n",
        "#count\n",
        "print(\"count\",tuple_ejemplo.count(2), sep='\\t')\n",
        "\n",
        "#extend\n",
        "#tuple_ejemplo.extend((11,12))\n",
        "#print(\"extend\", tuple_ejemplo, sep='\\t')\n",
        "\n",
        "#insert\n",
        "#tuple_ejemplo.insert(1,\"2\")\n",
        "#print(\"insert\",tuple_ejemplo,sep='\\t')\n",
        "\n",
        "#reverse\n",
        "#tuple_ejemplo.reverse()\n",
        "#print(\"reverse\",tuple_ejemplo,sep='\\t')\n",
        "#tuple_ejemplo.reverse()\n",
        "#print(\"reverse\",tuple_ejemplo,sep='\\t')\n",
        "\n",
        "tuple_ejemplo = tuple(lista_ejemplo)"
      ],
      "metadata": {
        "id": "lwpoi1j7UkZM"
      },
      "execution_count": null,
      "outputs": []
    },
    {
      "cell_type": "markdown",
      "source": [
        "## Diccionarios\n",
        "Los diccionarios son los hashes en Python. También son objetos y permiten almacenar una relación clave-valor, como sabes las claves en un diccionario o hash deben ser únicas, mientras que los valores pueden repetirse. La flexibilidad de los diccionarios en Python permite tener diccionarios que *apuntan* a otras estructuras de datos como tuplas, listas e incluso otros diccionarios.\n",
        "\n",
        "Tenga en cuenta que, aunque a veces puede parecer que los métodos .keys() y .values() de un diccionario conservan cierto orden e incluso se corresponden entre sí, simplemente llamarlos no garantiza que el elemento 'n' de uno sea equivalente al elemento ' n' del otro."
      ],
      "metadata": {
        "id": "ef5bkNeeVW5r"
      }
    },
    {
      "cell_type": "code",
      "source": [
        "dict_prueba = {\"0\":\"Carlos\",\"1\":\"John\",\"2\":\"Mike\",\"3\":\"Daniel\"}\n",
        "print(dict_prueba)\n",
        "\n",
        "#get\n",
        "print(\"get\",dict_prueba.get(\"3\"),sep='\\t')\n",
        "print(\"get\",dict_prueba.get(\"4\", \"not found\"),sep='\\t')\n",
        "\n",
        "#items\n",
        "print(\"items\",dict_prueba.items(),sep='\\t')\n",
        "\n",
        "for key, value in dict_prueba.items():\n",
        "  print(value, \"es el participante numero:\" , key)\n",
        "\n",
        "#keys\n",
        "print(\"keys\",dict_prueba.keys(),sep='\\t')\n",
        "\n",
        "#values\n",
        "print(\"values\",dict_prueba.values(),sep='\\t')"
      ],
      "metadata": {
        "colab": {
          "base_uri": "https://localhost:8080/"
        },
        "id": "TG3m7LquVXni",
        "outputId": "5e0ba9d8-6dc0-4d71-ab61-49c9ef84c22f"
      },
      "execution_count": null,
      "outputs": [
        {
          "output_type": "stream",
          "name": "stdout",
          "text": [
            "{'0': 'Carlos', '1': 'John', '2': 'Mike', '3': 'Daniel'}\n",
            "get\tDaniel\n",
            "get\tnot found\n",
            "items\tdict_items([('0', 'Carlos'), ('1', 'John'), ('2', 'Mike'), ('3', 'Daniel')])\n",
            "Carlos es el participante numero: 0\n",
            "John es el participante numero: 1\n",
            "Mike es el participante numero: 2\n",
            "Daniel es el participante numero: 3\n",
            "keys\tdict_keys(['0', '1', '2', '3'])\n",
            "values\tdict_values(['Carlos', 'John', 'Mike', 'Daniel'])\n"
          ]
        }
      ]
    },
    {
      "cell_type": "markdown",
      "source": [
        "## Ejercicios"
      ],
      "metadata": {
        "id": "-3IvDGKtl3Gu"
      }
    },
    {
      "cell_type": "markdown",
      "source": [
        "### Tipos de datos:\n",
        "    a. Declare variables con diferentes tipos de datos (int, float, String, bool) e imprima sus valores\n",
        "    b. Convertir entre tipos de datos (por ejemplo, convertir una cadena en un número entero o un flotante en una cadena)\n",
        "    C. Utilice operaciones matemáticas básicas con diferentes tipos de datos (por ejemplo, suma, resta, multiplicación, división)\n",
        "\n"
      ],
      "metadata": {
        "id": "Oa2iuiaRl7pP"
      }
    },
    {
      "cell_type": "code",
      "source": [],
      "metadata": {
        "id": "gRzLsb0ipCtW"
      },
      "execution_count": null,
      "outputs": []
    },
    {
      "cell_type": "markdown",
      "source": [
        "### Mutabilidad e inmutabilidad de los tipos de datos de Python:\n",
        "    a. Crea una cadena, una lista, un diccionario y una tupla. Asigne cada uno a una variable diferente.\n",
        "    b. Intenta modificar el valor de la cadena, la lista, el diccionario y la tupla. ¿Qué pasa y por qué?\n",
        "    C. Cree una nueva cadena, lista, diccionario y tupla que sean iguales a los originales. Modifique los nuevos y compare las variables originales y nuevas. ¿Qué pasó y por qué?\n",
        "    d. Crea una nueva cadena y asígnala a una variable. Concatena la cadena con otra cadena y asigna el resultado a una nueva variable.\n",
        "\n"
      ],
      "metadata": {
        "id": "LPhZHjsAmCcX"
      }
    },
    {
      "cell_type": "code",
      "source": [],
      "metadata": {
        "id": "i8kWLf9AmKse"
      },
      "execution_count": null,
      "outputs": []
    },
    {
      "cell_type": "markdown",
      "source": [
        "### Cree un String que contenga una comilla y utilice métodos de Strings para:\n",
        "    a. Convierta la cadena a mayúsculas y asígnela a una nueva variable\n",
        "    b. Reemplace una palabra en la cadena con otra palabra y asígnela a una nueva variable\n",
        "    C. Cuente el número de veces que aparece un carácter específico en la cadena\n",
        "    d. Divida la cadena en una lista de palabras y asígnela a una nueva variable\n",
        "\n"
      ],
      "metadata": {
        "id": "PtEkd83zmD_g"
      }
    },
    {
      "cell_type": "code",
      "source": [],
      "metadata": {
        "id": "JJEvjYbSmLYW"
      },
      "execution_count": null,
      "outputs": []
    },
    {
      "cell_type": "markdown",
      "source": [
        "### Cree una lista de números y utilice métodos de lista para:\n",
        "    a. Agregar un nuevo número al final de la lista\n",
        "    b. Insertar un nuevo número en un índice específico\n",
        "    C. Eliminar un elemento de la lista usando su valor\n",
        "    d. Ordenar la lista en orden ascendente o descendente\n",
        "\n"
      ],
      "metadata": {
        "id": "ThXlWkQWmFav"
      }
    },
    {
      "cell_type": "code",
      "source": [],
      "metadata": {
        "id": "RC9TNvO_mL12"
      },
      "execution_count": null,
      "outputs": []
    },
    {
      "cell_type": "markdown",
      "source": [
        "### Cree un diccionario que represente la información de una persona y utilice métodos de diccionario para:\n",
        "    a. Agregue un nuevo par clave-valor al diccionario\n",
        "    b. Eliminar un par clave-valor del diccionario\n",
        "    C. Obtenga el valor de una clave específica y asígnelo a una nueva variable\n",
        "    d. Comprobar si existe una clave en el diccionario.\n",
        "\n"
      ],
      "metadata": {
        "id": "SB4JuKT-mG-I"
      }
    },
    {
      "cell_type": "code",
      "source": [],
      "metadata": {
        "id": "Q-MeLMiymMZm"
      },
      "execution_count": null,
      "outputs": []
    },
    {
      "cell_type": "markdown",
      "source": [
        "### Cree una tupla de cadenas y utilice métodos de tupla para:\n",
        "    a. Concatenar dos tuplas y asignarlas a una nueva variable\n",
        "    b. Repita la tupla un número determinado de veces y asígnela a una nueva variable\n",
        "    C. Encuentra el índice de un elemento específico en la tupla.\n",
        "    d. Comprobar si un elemento específico está presente en la tupla"
      ],
      "metadata": {
        "id": "uxNvSclamIs2"
      }
    },
    {
      "cell_type": "code",
      "source": [],
      "metadata": {
        "id": "IQhQpd7emM7P"
      },
      "execution_count": null,
      "outputs": []
    },
    {
      "cell_type": "markdown",
      "source": [
        "## Estructuras de Control"
      ],
      "metadata": {
        "id": "VeZJP6ghpGBM"
      }
    },
    {
      "cell_type": "markdown",
      "source": [
        "### Condicionales\n",
        "\n",
        "Hasta ahora sabemos cómo definir variables, por lo que podemos crear bloques de código un poco más avanzados. Lo primero que queremos hacer es crear una nueva variable llamada \"under_age\" y necesitaremos definirla usando una declaración condicional. Para hacer esto, será útil recordar los operadores de comparación (`<, >, <=, >=, ==, !=`).\n",
        "\n",
        "La idea es la siguiente, si la persona es menor de edad, el valor de esta variable será ``Verdadero`` y será ``Falso`` en el otro caso.\n",
        "\n",
        "Declaraciones condicionales (if-else): esto permite que un programa ejecute ciertos bloques de código solo si se cumple una determinada condición. La sintaxis básica para una declaración if-else es:\n",
        "\n",
        "```python\n",
        "if condicion: # ejecuta el bloque de código si la condición es verdadera\n",
        "    # Bloque de código para una condición satisfecha.\n",
        "    \n",
        "else: # ejecuta el bloque de código si la condición es falsa\n",
        "    # Bloque de código para una condición no satisfecha.\n",
        "```\n",
        "\n",
        "En caso de tener mas de una condicion se usa `elif`\n",
        "\n",
        "#### Ejemplo:"
      ],
      "metadata": {
        "id": "vKfo7Mh_proF"
      }
    },
    {
      "cell_type": "code",
      "source": [
        "color_perro = \"cafe\"\n",
        "if color_perro == \"cafe\":\n",
        "    print(\"El perro es de color cafe.\")\n",
        "elif color_perro == \"blanco\":\n",
        "    print(\"El perro es de color blanco\")\n",
        "else:\n",
        "    print(\"El perro es de otro color.\")"
      ],
      "metadata": {
        "id": "0_t1SyhRqOEl"
      },
      "execution_count": null,
      "outputs": []
    },
    {
      "cell_type": "markdown",
      "source": [
        "#### Ejercicio:\n",
        "\n",
        "Ahora cree una condición para definir una nueva variable llamada ``menor_edad`` que comparará si la edad es mayor o igual a 18 para establecerla en ``False`` o ``True`` en el otro caso."
      ],
      "metadata": {
        "id": "eJXTSvMGsdFc"
      }
    },
    {
      "cell_type": "code",
      "source": [],
      "metadata": {
        "id": "xxsvbQOmtUJM"
      },
      "execution_count": null,
      "outputs": []
    },
    {
      "cell_type": "markdown",
      "source": [
        "### Bucles\n",
        "\n",
        "Iteración significa ejecutar el mismo bloque de código una y otra vez. Una estructura de programación que implementa la iteración se llama bucle (o ciclo).\n",
        "Los bucles permiten que un programa repita un conjunto de instrucciones varias veces.\n",
        "\n",
        "Hay dos tipos de iteración:\n",
        "\n",
        "* **Iteración definida**, en la que el número de iteraciones se especifica explícitamente de antemano.\n",
        "* **Iteración no definida**, en la que el bloque de código se ejecuta hasta que se cumpla alguna condición.\n",
        "\n",
        "Los dos tipos principales de bucles en Python son los bucles \"for\" y los bucles \" while\". La iteración indefinida se realiza con un bucle \" while\" y la iteración definitiva se realiza con un bucle \"for\".\n",
        "\n",
        "#### En bucle\n",
        "\n",
        "El `for` que tenemos en Python es un `for` especial que solo actúa sobre objetos iterables, es decir que no suma a una variable sino que recorre un vector elemento por elemento.\n",
        "\n",
        "````python\n",
        "for element in sequence:\n",
        "    # execute code block for each element in the sequence\n",
        "````"
      ],
      "metadata": {
        "id": "k1aH4Jm2taG1"
      }
    },
    {
      "cell_type": "markdown",
      "source": [
        "\n",
        "Podemos iterar a través de un rango de números:"
      ],
      "metadata": {
        "id": "UNvztITcurjz"
      }
    },
    {
      "cell_type": "code",
      "source": [
        "contar = range(0,30,3)\n",
        "contar"
      ],
      "metadata": {
        "colab": {
          "base_uri": "https://localhost:8080/"
        },
        "id": "SmLecEC4uvhT",
        "outputId": "33d0219a-a24f-4645-f1d5-ad5e41f61274"
      },
      "execution_count": 29,
      "outputs": [
        {
          "output_type": "execute_result",
          "data": {
            "text/plain": [
              "range(0, 30, 3)"
            ]
          },
          "metadata": {},
          "execution_count": 29
        }
      ]
    },
    {
      "cell_type": "code",
      "source": [
        "for n in contar:\n",
        "  print(\"El numero actual en la iteracion es: \" + str(n))\n",
        "print(\"Termina\")"
      ],
      "metadata": {
        "colab": {
          "base_uri": "https://localhost:8080/"
        },
        "id": "zh-9J-tPvKOr",
        "outputId": "a88b3660-bc6f-40ee-ff10-a453c6867fa9"
      },
      "execution_count": 30,
      "outputs": [
        {
          "output_type": "stream",
          "name": "stdout",
          "text": [
            "El numero actual en la iteracion es: 0\n",
            "El numero actual en la iteracion es: 3\n",
            "El numero actual en la iteracion es: 6\n",
            "El numero actual en la iteracion es: 9\n",
            "El numero actual en la iteracion es: 12\n",
            "El numero actual en la iteracion es: 15\n",
            "El numero actual en la iteracion es: 18\n",
            "El numero actual en la iteracion es: 21\n",
            "El numero actual en la iteracion es: 24\n",
            "El numero actual en la iteracion es: 27\n",
            "Termina\n"
          ]
        }
      ]
    },
    {
      "cell_type": "markdown",
      "source": [
        "\n",
        "Podemos iterar sobre los elementos de una lista:"
      ],
      "metadata": {
        "id": "t8d4Y1eEQJhi"
      }
    },
    {
      "cell_type": "code",
      "source": [
        "meses = [\n",
        "    'Enero',\n",
        "    'Febrero',\n",
        "    'Marzo',\n",
        "    'Abril',\n",
        "    'Mayo',\n",
        "    'Junio',\n",
        "    'Julio',\n",
        "    'Augosto',\n",
        "    'Septiembre',\n",
        "    'Octubre',\n",
        "    'Noviembre',\n",
        "    'Deciembre',\n",
        "]\n",
        "\n",
        "for mes in meses:\n",
        "    print(f\"El mes actual es {mes}.\")"
      ],
      "metadata": {
        "colab": {
          "base_uri": "https://localhost:8080/"
        },
        "id": "PGqV8bh2QKYp",
        "outputId": "71851972-9aee-4161-dccf-52279ee3bb79"
      },
      "execution_count": null,
      "outputs": [
        {
          "output_type": "stream",
          "name": "stdout",
          "text": [
            "El mes actual es Enero.\n",
            "El mes actual es Febrero.\n",
            "El mes actual es Marzo.\n",
            "El mes actual es Abril.\n",
            "El mes actual es Mayo.\n",
            "El mes actual es Junio.\n",
            "El mes actual es Julio.\n",
            "El mes actual es Augosto.\n",
            "El mes actual es Septiembre.\n",
            "El mes actual es Octubre.\n",
            "El mes actual es Noviembre.\n",
            "El mes actual es Deciembre.\n"
          ]
        }
      ]
    },
    {
      "cell_type": "markdown",
      "source": [
        "#### Bucle While\n",
        "\n",
        "Por otro lado la sintaxis del bucle ` while` es similar a la del `for`, seguido de dos puntos y el bloque identificado de forma correcta.\n",
        "\n",
        "Los bucles \"While\" se utilizan para ejecutar repetidamente un bloque de código siempre que se cumpla una determinada condición. Para un ciclo \" while \" es importante establecer una **condición de parada**.\n",
        "La sintaxis básica para un bucle while es:\n",
        "\n",
        "```python\n",
        "while condición:\n",
        "    # ejecutar bloque de código mientras la condición es verdadera\n",
        "```\n",
        "\n",
        "Ejemplo:"
      ],
      "metadata": {
        "id": "UvoQa0-3V4Xv"
      }
    },
    {
      "cell_type": "code",
      "source": [
        "x = 0\n",
        "while x < 10:\n",
        "    print(x)\n",
        "    x = x + 2\n",
        "print('Termina')"
      ],
      "metadata": {
        "colab": {
          "base_uri": "https://localhost:8080/"
        },
        "id": "9bq0rB0nWYCo",
        "outputId": "c79ef537-a155-4633-c09f-2b67b1fe2eed"
      },
      "execution_count": null,
      "outputs": [
        {
          "output_type": "stream",
          "name": "stdout",
          "text": [
            "0\n",
            "2\n",
            "4\n",
            "6\n",
            "8\n",
            "Termina\n"
          ]
        }
      ]
    },
    {
      "cell_type": "markdown",
      "source": [
        "\n",
        "El if tiene una sintaxis similar a la del while, sin embargo, no es necesario escribir la condición entre paréntesis, los operadores **or* y **and** se escriben tal cual:"
      ],
      "metadata": {
        "id": "5I3mm_kkXH5e"
      }
    },
    {
      "cell_type": "code",
      "source": [
        "a, b = 2, 3\n",
        "if a > b or b < 5:\n",
        "    print(\"Yes\")\n",
        "elif a==b:\n",
        "    print(\"Equal\")\n",
        "else:\n",
        "    print(\"No\")"
      ],
      "metadata": {
        "colab": {
          "base_uri": "https://localhost:8080/"
        },
        "id": "rXyOZYVCXQQ3",
        "outputId": "237efb3f-a8ac-4d82-c8e1-0783b77a850c"
      },
      "execution_count": null,
      "outputs": [
        {
          "output_type": "stream",
          "name": "stdout",
          "text": [
            "Yes\n"
          ]
        }
      ]
    },
    {
      "cell_type": "code",
      "source": [
        "#Numeros par e impar\n"
      ],
      "metadata": {
        "id": "lNE-rgJUYQSe"
      },
      "execution_count": null,
      "outputs": []
    },
    {
      "cell_type": "markdown",
      "source": [
        "## Funciones\n",
        "\n",
        "En Python es posible definir funciones y procedimientos (que en última instancia también son objetos). Una función es un grupo de declaraciones relacionadas que realizan una tarea específica. Las funciones ayudan a dividir nuestro programa en partes más pequeñas y modulares. A medida que nuestro programa se hace más grande y complejo, las funciones lo hacen más organizado y manejable.\n",
        "\n",
        "Una función se define utilizando la palabra clave def, seguida del nombre de la función y un conjunto de paréntesis que pueden contener argumentos. El código dentro de la función debe tener sangría y se ejecuta cuando se llama a la función.\n",
        "\n",
        "La sintaxis básica para definir una función en Python es:\n",
        " ```python\n",
        "def nombre_función(argumentos):\n",
        "    # código que se ejecutará cuando se llame a la función\n",
        "```\n",
        "\n",
        "\n",
        "Luego, estas funciones se pueden agrupar y convertir en una biblioteca (estos son bloques de código con funciones y objetos que se llaman para acceder a esas funciones).\n",
        "\n",
        "Aquí hay un ejemplo de cómo crear una función, tomará un número y devolverá la sucesión de Fibonacci en ese número:"
      ],
      "metadata": {
        "id": "e80-zPG6D5aV"
      }
    },
    {
      "cell_type": "code",
      "source": [
        "def fibonacci_function(n): # Como se define una funcion\n",
        "    '''Poner esto es muy importante, porque es una cadena que actúa como documentación de la función.\n",
        "    En él podrás detallar entradas, parámetros y salidas.\n",
        "    De esta manera, cuando las personas escriben la función y presionan shift+tab pueden leer esto y saber cómo funciona.'''\n",
        "    if n==0:\n",
        "        return(1) # Una funcion siempre regresa algo incluso si es un elemento vacio o 'None'.\n",
        "    elif n==1:\n",
        "        return(1)\n",
        "    else:\n",
        "        return(fibonacci_function(n-1)+fibonacci_function(n-2))"
      ],
      "metadata": {
        "id": "7FFEN7hbEJr9"
      },
      "execution_count": null,
      "outputs": []
    },
    {
      "cell_type": "code",
      "source": [
        "for i in range(10):\n",
        "    print(i, fibonacci_function(i))"
      ],
      "metadata": {
        "colab": {
          "base_uri": "https://localhost:8080/"
        },
        "id": "HzagVAP7E4oN",
        "outputId": "b23e9ba2-731f-4243-f42b-a995282547ba"
      },
      "execution_count": null,
      "outputs": [
        {
          "output_type": "stream",
          "name": "stdout",
          "text": [
            "0 1\n",
            "1 1\n",
            "2 2\n",
            "3 3\n",
            "4 5\n",
            "5 8\n",
            "6 13\n",
            "7 21\n",
            "8 34\n",
            "9 55\n"
          ]
        }
      ]
    },
    {
      "cell_type": "markdown",
      "source": [
        "La información se puede pasar a funciones como argumentos.\n",
        "\n",
        "Los argumentos se especifican después del nombre de la función, dentro del paréntesis. Puedes agregar tantos argumentos como quieras, simplemente sepáralos con una coma.\n",
        "\n",
        "Parámetros:\n",
        "- posicional\n",
        "- por palabra clave\n",
        "\n",
        "Los argumentos a menudo se reducen a argumentos en la documentación de Python.\n",
        "Los términos parámetro y argumento se pueden usar para lo mismo: información que se pasa a una función.\n",
        "\n",
        "Desde la perspectiva de una función:\n",
        "\n",
        "- Un parámetro es la variable que figura entre paréntesis en la definición de la función.\n",
        "- Un argumento es el valor que se envía a la función cuando se llama.\n",
        "\n",
        "Si no sabe cuántos argumentos se pasarán a su función, agregue un * antes del nombre del parámetro en la definición de la función.\n",
        "De esta manera, la función recibirá una tupla de argumentos y podrá acceder a los elementos en consecuencia.\n",
        "\n",
        "Si no sabe cuántos argumentos de palabras clave se pasarán a su función, agregue dos asteriscos: ** antes del nombre del parámetro en la definición de la función.\n",
        "De esta manera, la función recibirá un diccionario de argumentos y podrá acceder a los elementos en consecuencia:"
      ],
      "metadata": {
        "id": "PBHbIJARHD0c"
      }
    },
    {
      "cell_type": "code",
      "source": [
        "def prueba1(nombre) :\n",
        "  print(\"Hola\", nombre)\n",
        "\n",
        "def prueba2(*variospar) :\n",
        "  for par in variospar :\n",
        "    print(par)\n",
        "\n",
        "def prueba3(**kwargs) :\n",
        "  for a in kwargs:\n",
        "    print(f\"el valor de {a} es {kwargs[a]}\")\n"
      ],
      "metadata": {
        "id": "dNxx1JwSHLLs"
      },
      "execution_count": 32,
      "outputs": []
    },
    {
      "cell_type": "code",
      "source": [
        "prueba1(\"Luis\")\n",
        "prueba2(1,2,3)\n",
        "prueba3(name=\"Daniel\",last=\"Limon\")"
      ],
      "metadata": {
        "colab": {
          "base_uri": "https://localhost:8080/"
        },
        "id": "2l2_ejoqHas8",
        "outputId": "ed01cbce-0c45-42a3-9e0e-41af47d25c6f"
      },
      "execution_count": 33,
      "outputs": [
        {
          "output_type": "stream",
          "name": "stdout",
          "text": [
            "Hola Luis\n",
            "1\n",
            "2\n",
            "3\n",
            "el valor de name es Daniel\n",
            "el valor de last es Limon\n"
          ]
        }
      ]
    },
    {
      "cell_type": "markdown",
      "source": [
        "Hay que tener en cuenta que en Python todas las variables se pasan por referencia, y si se modifican en una función se pueden modificar globalmente a menos que sean objetos inmutables. Así que debes tener cuidado y generar copias de los elementos si no quieres modificarlos *en su lugar*."
      ],
      "metadata": {
        "id": "zxaT52DaIwtq"
      }
    },
    {
      "cell_type": "markdown",
      "source": [
        "### Ejercicio\n",
        "\n",
        "Crea una funcion que obtenga el promedio de n cantidad parametros"
      ],
      "metadata": {
        "id": "yHVuRn9JhHam"
      }
    },
    {
      "cell_type": "code",
      "source": [],
      "metadata": {
        "id": "ALP9lm3kiUku"
      },
      "execution_count": null,
      "outputs": []
    },
    {
      "cell_type": "markdown",
      "source": [
        "## List Comprehension"
      ],
      "metadata": {
        "id": "fV-_y0gUL2fh"
      }
    },
    {
      "cell_type": "markdown",
      "source": [
        "Las comprensiones de Python son expresiones para crear nuevas **listas**, **diccionarios**, **conjuntos** y **generadores** basados ​​en los valores de los iterables existentes. Son una forma elegante de hacer que su código sea mucho más conciso y legible en una sola línea de código.\n",
        "\n",
        "Una comprensión de Python consta de una expresión seguida de una cláusula \"for\" y, opcionalmente, una o más cláusulas \"if\". La expresión se evalúa para cada elemento de la lista especificada en la cláusula \"for\" y el resultado es una nueva lista que contiene los resultados de cada evaluación.\n",
        "\n",
        "Aquí está la sintaxis básica:\n",
        "\n",
        "```python\n",
        " nueva lista = [expresión for elemento in iterable if condición]\n",
        "```\n",
        "El valor de retorno es una lista nueva, dejando la lista anterior sin cambios. Recuerde que la condición es opcional y puede actuar como un filtro.\n",
        "\n",
        "A continuación se muestra un ejemplo de una lista por comprensión que eleva al cuadrado los números de una lista:"
      ],
      "metadata": {
        "id": "FQE_ouH2MQ66"
      }
    },
    {
      "cell_type": "code",
      "source": [
        "# Obtener el cuadrado de los valores con una comprehension list\n"
      ],
      "metadata": {
        "id": "DDQUZBkCMnrx"
      },
      "execution_count": null,
      "outputs": []
    },
    {
      "cell_type": "code",
      "source": [
        "#Lista de tuplas si el valor es par o impar\n",
        "\n",
        "# Crear lista filtrada por valores impares\n"
      ],
      "metadata": {
        "id": "ZbanTwFvNlxk"
      },
      "execution_count": null,
      "outputs": []
    },
    {
      "cell_type": "code",
      "source": [
        "# Crear Diccionario de los meses\n"
      ],
      "metadata": {
        "id": "wy1XNrarN23M"
      },
      "execution_count": null,
      "outputs": []
    },
    {
      "cell_type": "markdown",
      "source": [
        "### Ejercicio\n",
        "    * Genera una list comprehension obteniendo el año de nacimiento de aquellas personas que son mayores de edad de la lista siguiente:"
      ],
      "metadata": {
        "id": "MqIZTvhlctaX"
      }
    },
    {
      "cell_type": "code",
      "source": [
        "lista_edades = [15,16,33,41,17,13,25]"
      ],
      "metadata": {
        "id": "FSFWzqt2dZ7v"
      },
      "execution_count": 27,
      "outputs": []
    },
    {
      "cell_type": "markdown",
      "source": [
        "## Generadores"
      ],
      "metadata": {
        "id": "A9LaCh6qOiT6"
      }
    },
    {
      "cell_type": "markdown",
      "source": [
        "Las funciones generadoras son un tipo especial de función que devuelve un iterador diferido. Estos son objetos que puedes recorrer como una lista. Sin embargo, a diferencia de las listas, los iteradores diferidos no almacenan su contenido en la memoria. Se puede utilizar para generar una secuencia de valores. A diferencia de una función normal, que se ejecuta hasta su finalización y devuelve un único valor, una función generadora devuelve un objeto que se puede utilizar para iterar sobre una secuencia de valores. Los valores se generan uno a la vez, según se necesitan, lo que convierte a los generadores en una forma eficiente de manejar grandes secuencias de datos.\n",
        "\n",
        "Una función generadora se define como una función normal, pero en lugar de utilizar la declaración de retorno, la función generadora utiliza la declaración de rendimiento para devolver cada valor de la secuencia. La declaración de rendimiento se utiliza para especificar el valor que se devolverá para cada iteración del generador.\n",
        "\n",
        "Aquí hay un ejemplo de una función generadora que genera la secuencia de Fibonacci:"
      ],
      "metadata": {
        "id": "ubScV1b2Oj-S"
      }
    },
    {
      "cell_type": "code",
      "source": [
        "def fibonacci_generator():\n",
        "    a, b = 0, 1\n",
        "    while True:\n",
        "        yield (a, b)\n",
        "        a, b = b, a + b\n",
        "\n",
        "# Usa el generador para imprimir los primeros 10 numeros en la secuencia de Fibonacci\n",
        "fib = fibonacci_generator()\n",
        "for i in range(10):\n",
        "    print(next(fib))"
      ],
      "metadata": {
        "colab": {
          "base_uri": "https://localhost:8080/"
        },
        "id": "go7u-W4FOnHC",
        "outputId": "15376213-38f0-461b-8ae4-7bf30e9e1da9"
      },
      "execution_count": null,
      "outputs": [
        {
          "output_type": "stream",
          "name": "stdout",
          "text": [
            "(0, 1)\n",
            "(1, 1)\n",
            "(1, 2)\n",
            "(2, 3)\n",
            "(3, 5)\n",
            "(5, 8)\n",
            "(8, 13)\n",
            "(13, 21)\n",
            "(21, 34)\n",
            "(34, 55)\n"
          ]
        }
      ]
    },
    {
      "cell_type": "markdown",
      "source": [
        "Esta es una forma más concisa de crear la lista fibonacci_function.\n",
        "Solo recuerda esta diferencia clave:\n",
        "\n",
        "* El uso de rendimiento dará como resultado un objeto generador, el programa suspenderá la ejecución de la función (guardando su estado) y devolverá el valor obtenido a la persona que llama.\n",
        "* El uso de return resultará en detener completamente la ejecución de la función.\n",
        "\n",
        "Con los generadores puede reanudar la ejecución de funciones utilizando los métodos del generador (por ejemplo, `next()`)"
      ],
      "metadata": {
        "id": "og3N36toO27C"
      }
    },
    {
      "cell_type": "markdown",
      "source": [
        "También puede definir una expresión generadora (también llamada comprensión generadora), que tiene una sintaxis muy similar a la lista de comprensiones. De esta manera, puedes usar el generador sin llamar a una función:\n",
        "```python\n",
        "csv_gen = (fila por fila en open(file_name))\n",
        "```"
      ],
      "metadata": {
        "id": "y39m8PYpO-nq"
      }
    },
    {
      "cell_type": "markdown",
      "source": [
        "### Ejercicio:\n",
        "\n",
        "    * Escriba un generador que genere los primeros n números pares (donde n es un entero positivo pasado como argumento al generador).\n",
        "    * Modifique el generador anterior para generar también los primeros n números impares.\n",
        "    * Utilice el generador para imprimir los primeros 10 números pares e impares respectivamente."
      ],
      "metadata": {
        "id": "FRA1zpryPD7i"
      }
    },
    {
      "cell_type": "markdown",
      "source": [
        "## Numpy"
      ],
      "metadata": {
        "id": "SWEEZjjtSamX"
      }
    },
    {
      "cell_type": "markdown",
      "source": [
        "\n",
        "NumPy es una biblioteca de Python que se utiliza para trabajar con matrices.\n",
        "\n",
        "También cuenta con funciones para trabajar en el dominio del álgebra lineal, transformada de Fourier y matrices."
      ],
      "metadata": {
        "id": "2IbPQ4McQ-pw"
      }
    },
    {
      "cell_type": "markdown",
      "source": [
        "En Python tenemos listas que sirven como matrices, pero su procesamiento es lento.\n",
        "\n",
        "NumPy tiene como objetivo proporcionar un objeto de matriz que es hasta 50 veces más rápido que las listas tradicionales de Python.\n",
        "\n",
        "El objeto de matriz en NumPy se llama ndarray y proporciona muchas funciones de soporte que hacen que trabajar con ndarray sea muy fácil."
      ],
      "metadata": {
        "id": "RNMeCQ2sRJrq"
      }
    },
    {
      "cell_type": "code",
      "source": [
        "import numpy as np"
      ],
      "metadata": {
        "id": "T4TfDIkETn9o"
      },
      "execution_count": 1,
      "outputs": []
    },
    {
      "cell_type": "code",
      "source": [
        "lista1 = [1,2,3,4,5]\n",
        "\n",
        "np_lista1 = np.array(lista1)\n",
        "print(np_lista1)\n",
        "print(type(np_lista1))\n",
        "\n",
        "print(np_lista1.dtype)\n"
      ],
      "metadata": {
        "colab": {
          "base_uri": "https://localhost:8080/"
        },
        "id": "t4rQDMUSTXP3",
        "outputId": "0e30dcf6-7e74-4812-f50e-db269b911625"
      },
      "execution_count": 11,
      "outputs": [
        {
          "output_type": "stream",
          "name": "stdout",
          "text": [
            "[1 2 3 4 5]\n",
            "<class 'numpy.ndarray'>\n",
            "int64\n"
          ]
        }
      ]
    },
    {
      "cell_type": "markdown",
      "source": [
        "Dimensiones de ndarray"
      ],
      "metadata": {
        "id": "SioOHd01UuIh"
      }
    },
    {
      "cell_type": "code",
      "source": [
        "a = np.array(42)\n",
        "b = np.array([1, 2, 3, 4, 5])\n",
        "c = np.array([[1, 2, 3], [4, 5, 6]])\n",
        "d = np.array([[[1, 2, 3], [4, 5, 6]], [[1, 2, 3], [4, 5, 6]]])\n",
        "\n",
        "print(a.ndim)\n",
        "print(b.ndim)\n",
        "print(c.ndim)\n",
        "print(d.ndim)"
      ],
      "metadata": {
        "colab": {
          "base_uri": "https://localhost:8080/"
        },
        "id": "SQIWsBTpUzFB",
        "outputId": "20fad7d3-d6f2-4be9-bbdc-6ffdb34267d0"
      },
      "execution_count": 10,
      "outputs": [
        {
          "output_type": "stream",
          "name": "stdout",
          "text": [
            "0\n",
            "1\n",
            "2\n",
            "3\n"
          ]
        }
      ]
    },
    {
      "cell_type": "markdown",
      "source": [
        "### Tipo de datos en Numpy"
      ],
      "metadata": {
        "id": "oVj8iB9FWGIf"
      }
    },
    {
      "cell_type": "markdown",
      "source": [
        "NumPy tiene algunos tipos de datos adicionales y se refiere a tipos de datos con un carácter, como i para enteros, u para enteros sin signo, etc.\n",
        "\n",
        "A continuación se muestra una lista de todos los tipos de datos en NumPy y los caracteres utilizados para representarlos.\n",
        "\n",
        "* *i* - integer\n",
        "* *b* - boolean\n",
        "* *u* - unsigned integer\n",
        "* *f* - float\n",
        "* *c* - complex float\n",
        "* *m* - timedelta\n",
        "* *M* - datetime\n",
        "* *O* - object\n",
        "* *S* - string\n",
        "* *U* - unicode string\n",
        "* *V* - fixed chunk of memory for other type ( void )"
      ],
      "metadata": {
        "id": "KS1LXuNQWNKH"
      }
    },
    {
      "cell_type": "code",
      "source": [
        "arr = np.array(['apple', 'banana', 'cherry'])\n",
        "\n",
        "print(arr.dtype)"
      ],
      "metadata": {
        "id": "ItfZQlVjWz1h"
      },
      "execution_count": null,
      "outputs": []
    },
    {
      "cell_type": "code",
      "source": [
        "arr = np.array([1, 2, 3, 4], dtype='S')\n",
        "\n",
        "print(arr)\n",
        "print(arr.dtype)"
      ],
      "metadata": {
        "id": "bm_X2tNIW2Hx"
      },
      "execution_count": null,
      "outputs": []
    },
    {
      "cell_type": "markdown",
      "source": [
        "Para `i`, `u`, `f`, `S` y `U` también podemos definir el tamaño."
      ],
      "metadata": {
        "id": "qVZtNHTmW7i3"
      }
    },
    {
      "cell_type": "code",
      "source": [
        "arr = np.array([1, 2, 3, 4], dtype='i4')\n",
        "\n",
        "print(arr)\n",
        "print(arr.dtype)"
      ],
      "metadata": {
        "id": "WVdpTFGvXPNP"
      },
      "execution_count": null,
      "outputs": []
    },
    {
      "cell_type": "markdown",
      "source": [
        "\n",
        "### Conversión de tipos de datos en matrices existentes"
      ],
      "metadata": {
        "id": "nKkk_p9gXa4A"
      }
    },
    {
      "cell_type": "markdown",
      "source": [
        "\n",
        "La mejor manera de cambiar el tipo de datos de una matriz existente es hacer una copia de la matriz con el método `astype()`.\n",
        "\n",
        "La función `astype()` crea una copia de la matriz y le permite especificar el tipo de datos como parámetro."
      ],
      "metadata": {
        "id": "B-PsaAwKXqo_"
      }
    },
    {
      "cell_type": "code",
      "source": [
        "arr = np.array([1.1, 2.1, 3.1])\n",
        "\n",
        "newarr = arr.astype('i')\n",
        "\n",
        "print(newarr)\n",
        "print(newarr.dtype)"
      ],
      "metadata": {
        "id": "r9VoYMLtXtt2"
      },
      "execution_count": null,
      "outputs": []
    },
    {
      "cell_type": "code",
      "source": [
        "arr = np.array([1.1, 2.1, 3.1])\n",
        "\n",
        "newarr = arr.astype(int)\n",
        "\n",
        "print(newarr)\n",
        "print(newarr.dtype)"
      ],
      "metadata": {
        "id": "hnoDS65lX9nH"
      },
      "execution_count": null,
      "outputs": []
    },
    {
      "cell_type": "code",
      "source": [
        "#convertir a boolean\n"
      ],
      "metadata": {
        "id": "55IsyafMYI0_"
      },
      "execution_count": null,
      "outputs": []
    },
    {
      "cell_type": "markdown",
      "source": [
        "### Iterando matrices"
      ],
      "metadata": {
        "id": "OquB_bEpbUxv"
      }
    },
    {
      "cell_type": "markdown",
      "source": [
        "Mientras tratamos con matrices multidimensionales en numpy, podemos hacer esto usando el bucle for básico de Python.\n",
        "\n",
        "Si iteramos en una matriz 1-D, pasará por cada elemento uno por uno."
      ],
      "metadata": {
        "id": "BFY9FohMbZUG"
      }
    },
    {
      "cell_type": "code",
      "source": [
        "arr = np.array([[1, 2, 3], [4, 5, 6]])\n",
        "\n",
        "for x in arr:\n",
        "  print(x)"
      ],
      "metadata": {
        "colab": {
          "base_uri": "https://localhost:8080/"
        },
        "id": "JaqBa6zcbcLv",
        "outputId": "ad4bc207-97f9-4ee4-a6ec-71c02cef2d9a"
      },
      "execution_count": 18,
      "outputs": [
        {
          "output_type": "stream",
          "name": "stdout",
          "text": [
            "[1 2 3]\n",
            "[4 5 6]\n"
          ]
        }
      ]
    },
    {
      "cell_type": "code",
      "source": [
        "for x in arr:\n",
        "  for y in x:\n",
        "    print(y)"
      ],
      "metadata": {
        "colab": {
          "base_uri": "https://localhost:8080/"
        },
        "id": "LtM_K4YbbhOf",
        "outputId": "c15333f1-8b37-45d0-977c-7c1d57501f6b"
      },
      "execution_count": 19,
      "outputs": [
        {
          "output_type": "stream",
          "name": "stdout",
          "text": [
            "1\n",
            "2\n",
            "3\n",
            "4\n",
            "5\n",
            "6\n"
          ]
        }
      ]
    },
    {
      "cell_type": "markdown",
      "source": [
        "\n",
        "#### Iterando matrices usando `nditer()`"
      ],
      "metadata": {
        "id": "iaP9WIfNbtrY"
      }
    },
    {
      "cell_type": "markdown",
      "source": [
        "\n",
        "La función `nditer()` es una función de ayuda que se puede utilizar desde iteraciones muy básicas hasta iteraciones muy avanzadas. Resuelve algunos problemas básicos que enfrentamos en la iteración."
      ],
      "metadata": {
        "id": "hP7hvMkAb4N-"
      }
    },
    {
      "cell_type": "code",
      "source": [
        "for x in np.nditer(arr):\n",
        "  print(x)"
      ],
      "metadata": {
        "colab": {
          "base_uri": "https://localhost:8080/"
        },
        "id": "fBl_LZkTb0XW",
        "outputId": "ceba3b74-04ec-4160-e0d4-4e164cb9da11"
      },
      "execution_count": 20,
      "outputs": [
        {
          "output_type": "stream",
          "name": "stdout",
          "text": [
            "1\n",
            "2\n",
            "3\n",
            "4\n",
            "5\n",
            "6\n"
          ]
        }
      ]
    },
    {
      "cell_type": "markdown",
      "source": [
        "#### Ejercicio\n",
        "Crea un matriz con numpy de 3x3 e itera sus valores utilizando la funcion `nditer()`"
      ],
      "metadata": {
        "id": "Iyrrp6KpcJLQ"
      }
    },
    {
      "cell_type": "code",
      "source": [],
      "metadata": {
        "id": "6-rD7ctAcH1w"
      },
      "execution_count": null,
      "outputs": []
    },
    {
      "cell_type": "code",
      "source": [
        "import matplotlib.pyplot as plt\n",
        "\n",
        "year = [1950,1970,1990,2010]\n",
        "pop = [2.519,3.692,5.263,6.972]\n",
        "\n",
        "np_year = np.array(year)\n",
        "np_pop = np.array(pop)\n",
        "\n",
        "# s(size) c(color) alpha(transparency)\n",
        "plt.scatter(np_year,np_pop, s = np_pop*2, alpha = 0.8)\n",
        "\n",
        "plt.ylabel(\"Population\")\n",
        "plt.xlabel(\"Year\")\n",
        "plt.title(\"World's Population Projections\")\n",
        "\n",
        "#plt.yticks([0,2,4,6,8,10],['0','2B','4B','6B','8B','10B'])\n",
        "\n",
        "plt.show()"
      ],
      "metadata": {
        "id": "Bc3hUTMNSb4x",
        "outputId": "3797aed8-2a0b-47f4-dfa0-e38b6eac6ffb",
        "colab": {
          "base_uri": "https://localhost:8080/",
          "height": 472
        }
      },
      "execution_count": null,
      "outputs": [
        {
          "output_type": "display_data",
          "data": {
            "text/plain": [
              "<Figure size 640x480 with 1 Axes>"
            ],
            "image/png": "[encoded data removed]"
          },
          "metadata": {}
        }
      ]
    }
  ]
}